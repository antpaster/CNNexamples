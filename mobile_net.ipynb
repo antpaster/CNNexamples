{
 "cells": [
  {
   "cell_type": "code",
   "execution_count": null,
   "id": "669cbb40",
   "metadata": {},
   "outputs": [],
   "source": [
    "import torch\n",
    "import torch.nn as nn\n",
    "\n",
    "class InvertedResidual(nn.Module):\n",
    "    def _initialize_weights(self):\n",
    "        for m in self.modules():\n",
    "            if isinstance(m, nn.Conv2d):\n",
    "                nn.init.kaiming_normal_(m.weight, mode='fan_out')\n",
    "            elif isinstance(m, nn.BatchNorm2d):\n",
    "                nn.init.ones_(m.weight)\n",
    "                nn.init.zeros_(m.bias)\n",
    "\n",
    "    def __init__(self, in_channels, out_channels, stride, expansion_factor):\n",
    "        super().__init__()\n",
    "        hidden_dim = in_channels * expansion_factor\n",
    "        self.use_res_connect = (stride == 1 and in_channels == out_channels)\n",
    "\n",
    "        layers = []\n",
    "        # Expansion phase\n",
    "        if expansion_factor != 1:\n",
    "            layers.append(nn.Conv2d(in_channels, hidden_dim, kernel_size=1, bias=False))\n",
    "            layers.append(nn.BatchNorm2d(hidden_dim))\n",
    "            layers.append(nn.ReLU6(inplace=True))\n",
    "            # layers.append(nn.SiLU(inplace=True))\n",
    "        \n",
    "        # Depthwise separable convolution\n",
    "        layers.append(nn.Conv2d(hidden_dim, hidden_dim, kernel_size=3, stride=stride, padding=1, groups=hidden_dim, bias=False))\n",
    "        layers.append(nn.BatchNorm2d(hidden_dim))\n",
    "        layers.append(nn.ReLU6(inplace=True))\n",
    "        # layers.append(nn.SiLU(inplace=True))\n",
    "\n",
    "        # Projection phase (linear bottleneck)\n",
    "        layers.append(nn.Conv2d(hidden_dim, out_channels, kernel_size=1, bias=False))\n",
    "        layers.append(nn.BatchNorm2d(out_channels))\n",
    "        \n",
    "        self.conv = nn.Sequential(*layers)\n",
    "\n",
    "        self._initialize_weights()\n",
    "\n",
    "    def forward(self, x):\n",
    "        if self.use_res_connect:\n",
    "            return x + self.conv(x)\n",
    "        else:\n",
    "            return self.conv(x)\n"
   ]
  },
  {
   "cell_type": "code",
   "execution_count": 7,
   "id": "00f75412",
   "metadata": {},
   "outputs": [
    {
     "name": "stdout",
     "output_type": "stream",
     "text": [
      "torch.Size([1, 16, 56, 56])\n"
     ]
    }
   ],
   "source": [
    "\n",
    "# Test run\n",
    "x = torch.randn(1, 32, 112, 112)\n",
    "# block = InvertedResidual(32, 16, stride=1, expansion_factor=6)\n",
    "block = InvertedResidual(32, 16, stride=2, expansion_factor=6)\n",
    "print(block(x).shape)\n"
   ]
  }
 ],
 "metadata": {
  "kernelspec": {
   "display_name": "Python 3",
   "language": "python",
   "name": "python3"
  },
  "language_info": {
   "codemirror_mode": {
    "name": "ipython",
    "version": 3
   },
   "file_extension": ".py",
   "mimetype": "text/x-python",
   "name": "python",
   "nbconvert_exporter": "python",
   "pygments_lexer": "ipython3",
   "version": "3.11.9"
  }
 },
 "nbformat": 4,
 "nbformat_minor": 5
}
